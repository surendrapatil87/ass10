{
 "cells": [
  {
   "cell_type": "markdown",
   "id": "323ec4dc",
   "metadata": {},
   "source": [
    "# 1. What is the primary goal of Object-Oriented Programming (OOP)?"
   ]
  },
  {
   "cell_type": "markdown",
   "id": "6b54d5da",
   "metadata": {},
   "source": [
    "Ans:- It help us to code using object which are nothing but instance of class. It is strucutred way of programming which encapsulated related data and functionality. Classes in OOP is covers properties (attributes) and behavior(method) that objects of class. In short object/instance are blueprint of the class. Each object has its own identity. The core of OOPS are\n",
    "\n",
    "    Inheritance\n",
    "    Encpasulation\n",
    "    Polymorphism\n",
    "    Abstraction\n",
    "    \n"
   ]
  },
  {
   "cell_type": "markdown",
   "id": "4d85a432",
   "metadata": {},
   "source": [
    "# 2.What is an object in Python?"
   ]
  },
  {
   "cell_type": "markdown",
   "id": "bc476de0",
   "metadata": {},
   "source": [
    "Ans:- Object is instance of class. Classes defined with attributes and method which translated to object as its behivor and properties. Each object have different memory allocation/idnetity in kernel"
   ]
  },
  {
   "cell_type": "code",
   "execution_count": 1,
   "id": "6dc79232",
   "metadata": {},
   "outputs": [],
   "source": [
    "\"\"\"\n",
    "Below code defines the class named person with attribute name and method eat and work\n",
    "\"\"\"\n",
    "class Person:\n",
    "    def __init__(self, name):\n",
    "        self.name = name\n",
    "    def eat(self):\n",
    "        print(f\"Person {self.name} is eating food\")\n",
    "    def work(self):\n",
    "        print(f\"Person {self.name} is working\")"
   ]
  },
  {
   "cell_type": "code",
   "execution_count": 2,
   "id": "9052c359",
   "metadata": {},
   "outputs": [
    {
     "name": "stdout",
     "output_type": "stream",
     "text": [
      "Person Surendra Patil is eating food\n",
      "Person Surendra Patil is working\n"
     ]
    }
   ],
   "source": [
    "\"\"\"\n",
    "Below example we are creating instance of class Person as p1 and try to excute the function initilized in it\n",
    "\"\"\"\n",
    "p1 = Person('Surendra Patil')\n",
    "p1.eat()\n",
    "p1.work()"
   ]
  },
  {
   "cell_type": "markdown",
   "id": "e6453568",
   "metadata": {},
   "source": [
    "# 3.What is a class in Python?"
   ]
  },
  {
   "cell_type": "markdown",
   "id": "e31d3e48",
   "metadata": {},
   "source": [
    "Ans:- Class template or blueprint to create objects. It comprise of properties and behavior which can be translated to object. In other way A class acts as a user-defined data type that encapsulates related data and functions into a single entity. It provides a way to organize and structure code by grouping related data and operations together."
   ]
  },
  {
   "cell_type": "code",
   "execution_count": 3,
   "id": "b5aff94e",
   "metadata": {},
   "outputs": [],
   "source": [
    "\"\"\"Defining a class with some attribute and  method \"\"\"\n",
    "\n",
    "class Animal:\n",
    "    def __init__(self, type, name):\n",
    "        self.type = type\n",
    "        self.name = name\n",
    "    def animal_base(self):\n",
    "        if (self.type == 'Pet'):\n",
    "            print(f\" {self.name} falls farm animal that can be kept at home\")\n",
    "        elif (self.type == 'Wild'):\n",
    "            print(f\" {self.name} are wild animal they blongs to Jungle\")\n",
    "        else:\n",
    "            print(f\"There is no category for those {self.name}\")"
   ]
  },
  {
   "cell_type": "code",
   "execution_count": 5,
   "id": "fdd4717f",
   "metadata": {},
   "outputs": [
    {
     "name": "stdout",
     "output_type": "stream",
     "text": [
      " Cat falls farm animal that can be kept at home\n",
      " Lion are wild animal they blongs to Jungle\n"
     ]
    }
   ],
   "source": [
    "a1 = Animal('Pet', 'Cat')\n",
    "a1.animal_base()\n",
    "a2 = Animal('Wild', 'Lion')\n",
    "a2.animal_base()"
   ]
  },
  {
   "cell_type": "markdown",
   "id": "77387d38",
   "metadata": {},
   "source": [
    "# 4.What are attributes and methods in a class?"
   ]
  },
  {
   "cell_type": "markdown",
   "id": "1c0c5e31",
   "metadata": {},
   "source": [
    " Ans:- Class is template for object which defines properties and behvior for the instance. When we say properties it signfies as attribute (It will define idnetity for the object) and behivor resonate to method it holds operation/functionality which object has to execute to achieve some outcomes"
   ]
  },
  {
   "cell_type": "markdown",
   "id": "711451a9",
   "metadata": {},
   "source": [
    "# 5.What is the difference between class variables and instance variables in Python?"
   ]
  },
  {
   "cell_type": "markdown",
   "id": "d659b09c",
   "metadata": {},
   "source": [
    "Ans:- As name suggested class variables holds a value at class level on the other hand instance variable remain unique as per the instance. Class variable holds same value across all the instance but reverse is not true."
   ]
  },
  {
   "cell_type": "code",
   "execution_count": 6,
   "id": "6d45b8c1",
   "metadata": {},
   "outputs": [],
   "source": [
    "class Bike:\n",
    "    wheel_type = '2 Wheeler'\n",
    "    def __init__(self, type, brand, model):\n",
    "        self.type = type\n",
    "        self.brand = brand\n",
    "        self.model = model\n",
    "        \n",
    "    def type_bike(self):\n",
    "        if self.type == 'Auto':\n",
    "            print(f\" {wheel_type} from {self.brand} of model {self.model} is Automatic transmission\")\n",
    "        elif self.type == \"Manual\":\n",
    "            print(f\" {wheel_type} from {self.brand} of model {self.model} is manual transmission\")"
   ]
  },
  {
   "cell_type": "code",
   "execution_count": 7,
   "id": "7a13fe83",
   "metadata": {},
   "outputs": [
    {
     "name": "stdout",
     "output_type": "stream",
     "text": [
      "2 Wheeler\n",
      "Auto\n",
      "2 Wheeler\n",
      "Manual\n"
     ]
    }
   ],
   "source": [
    "b1 = Bike('Auto', 'Suzuki', 'TVS Jupiter')\n",
    "print(b1.wheel_type)\n",
    "print(b1.type)\n",
    "\n",
    "b2 = Bike ('Manual', 'Honda', 'CBZ100')\n",
    "print(b2.wheel_type)\n",
    "print(b2.type)"
   ]
  },
  {
   "cell_type": "markdown",
   "id": "6a65b37f",
   "metadata": {},
   "source": [
    "# 6. What is the purpose of the self parameter in Python class methods?"
   ]
  },
  {
   "cell_type": "markdown",
   "id": "2465143a",
   "metadata": {},
   "source": [
    "Ans:- The self parameter in Python class methods represents the instance of the class. It is a convention in Python to name the first parameter of instance methods as self, although you can choose any valid parameter name."
   ]
  },
  {
   "cell_type": "code",
   "execution_count": 8,
   "id": "1d3b2b08",
   "metadata": {},
   "outputs": [],
   "source": [
    "class Welcome:\n",
    "    def __init__(self, name):\n",
    "        self.name = name\n",
    "    \n",
    "    def greet(self):\n",
    "        print(f\" Welcome to class {self.name}\")"
   ]
  },
  {
   "cell_type": "code",
   "execution_count": 9,
   "id": "cb590c99",
   "metadata": {},
   "outputs": [
    {
     "name": "stdout",
     "output_type": "stream",
     "text": [
      " Welcome to class Dipali Patil\n",
      " Welcome to class Surendra Patil\n"
     ]
    }
   ],
   "source": [
    "\"\"\"To Instance created from the class so every passed parameter to object acts as an idnetity\"\"\"\n",
    "w1 = Welcome('Dipali Patil')\n",
    "w1.greet()\n",
    "w2 = Welcome(\"Surendra Patil\")\n",
    "w2.greet()"
   ]
  },
  {
   "cell_type": "markdown",
   "id": "167aecb3",
   "metadata": {},
   "source": [
    "# 7. For a library management system, you have to design the \"Book\" class with OOP \n",
    "principles in mind. The “Book” class will have following attributes:\n",
    "a. title: Represents the title of the book.\n",
    "b. author: Represents the author(s) of the book.\n",
    "c. isbn: Represents the ISBN (International Standard Book Number) of the book.\n",
    "d. publication_year: Represents the year of publication of the book.\n",
    "e. available_copies: Represents the number of copies available for checkout.\n",
    "The class will also include the following methods:\n",
    "a. check_out(self): Decrements the available copies by one if there are copies\n",
    "available for checkout.\n",
    "b. return_book(self): Increments the available copies by one when a book is\n",
    "returned.\n",
    "c. display_book_info(self): Displays the information about the book, including its\n",
    "attributes and the number of available copies."
   ]
  },
  {
   "cell_type": "markdown",
   "id": "ca2b2c68",
   "metadata": {},
   "source": [
    "Ans:- "
   ]
  },
  {
   "cell_type": "code",
   "execution_count": 10,
   "id": "ce5eb076",
   "metadata": {},
   "outputs": [],
   "source": [
    "class Book:\n",
    "    def __init__(self, title, author, isbn, publication_year, available_copies):\n",
    "        self.title = title\n",
    "        self.author = author\n",
    "        self.isbn = isbn\n",
    "        self.publication_year = publication_year\n",
    "        self.available_copies = available_copies\n",
    "    def check_out(self):\n",
    "        if self.available_copies > 0:\n",
    "            self.available_copies = self.available_copies - 1\n",
    "            print(f\"{self.title} has been checked out now avialable copies are {self.available_copies}\")\n",
    "        else:\n",
    "            print('Book is not available')\n",
    "    def return_book(self):\n",
    "        self.available_copies = self.available_copies + 1\n",
    "        print(f\"{self.title} has been retruned back avialable copies are {self.available_copies}\")\n",
    "    \n",
    "    def display_book_info(self):\n",
    "        print(f\" {self.title} from author {self.author} with book no: {self.isbn} published in year {self.publication_year} has following copies available {self.available_copies}\")\n",
    "        "
   ]
  },
  {
   "cell_type": "code",
   "execution_count": 11,
   "id": "45bf80e0",
   "metadata": {},
   "outputs": [
    {
     "name": "stdout",
     "output_type": "stream",
     "text": [
      "Head First Python has been checked out now avialable copies are 11\n",
      " Head First Python from author Oreliey with book no: B-0001 published in year 2010 has following copies available 11\n",
      "Head First Python has been retruned back avialable copies are 12\n"
     ]
    }
   ],
   "source": [
    "b1 = Book('Head First Python', 'Oreliey', \"B-0001\", 2010, 12)\n",
    "b1.check_out()\n",
    "b1.display_book_info()\n",
    "b1.return_book()"
   ]
  },
  {
   "cell_type": "markdown",
   "id": "4579065f",
   "metadata": {},
   "source": [
    "# 8. For a ticket booking system, you have to design the \"Ticket\" class with OOP\n",
    "principles in mind. The “Ticket” class should have the following attributes:\n",
    "a. ticket_id: Represents the unique identifier for the ticket.\n",
    "b. event_name: Represents the name of the event.\n",
    "c. event_date: Represents the date of the event.\n",
    "d. venue: Represents the venue of the event.\n",
    "e. seat_number: Represents the seat number associated with the ticket.\n",
    "f. price: Represents the price of the ticket.\n",
    "g. is_reserved: Represents the reservation status of the ticket.\n",
    "The class also includes the following methods:\n",
    "a. reserve_ticket(self): Marks the ticket as reserved if it is not already reserved.\n",
    "b. cancel_reservation(self): Cancels the reservation of the ticket if it is already\n",
    "reserved.\n",
    "c. display_ticket_info(self): Displays the information about the ticket, including its\n",
    "attributes and reservation status."
   ]
  },
  {
   "cell_type": "markdown",
   "id": "e3cdcb61",
   "metadata": {},
   "source": [
    "Ans:-"
   ]
  },
  {
   "cell_type": "code",
   "execution_count": 12,
   "id": "dd804b0f",
   "metadata": {},
   "outputs": [],
   "source": [
    "\"\"\"\n",
    "Class for generating unique no for ticket ID\n",
    "\"\"\"\n",
    "class IDGenerator:\n",
    "    def __init__(self, prefix=''):\n",
    "        self.prefix = prefix\n",
    "        self.counter = 0\n",
    "\n",
    "    def generate_id(self):\n",
    "        self.counter += 1\n",
    "        return f\"{self.prefix}{self.counter}\""
   ]
  },
  {
   "cell_type": "code",
   "execution_count": 13,
   "id": "4e75754d",
   "metadata": {},
   "outputs": [],
   "source": [
    "## List to allocate the seat for reservation \n",
    "seat_number_counter = [1,2,3,4,5,6,7,8,9,10]\n",
    "\n",
    "import uuid\n",
    "\n",
    "class Ticket:\n",
    "    \n",
    "    def __init__(self, ticket_id , event_name, event_date, venue, seat_number = 0, price = 1000, is_reserved = False):\n",
    "        self.ticket_id = ticket_id\n",
    "        self.event_name = event_name\n",
    "        self.event_date = event_date\n",
    "        self.venue = venue\n",
    "        self.seat_number = seat_number\n",
    "        self.price = price\n",
    "        self.is_reserved = is_reserved\n",
    "    def reserve_ticket(self):\n",
    "        self.seat_number = seat_number_counter.pop()\n",
    "        print(f\"{self.ticket_id} has been reserved for {self.event_name} on {self.event_date} with seat number {self.seat_number}\")\n",
    "        self.is_reserved = True\n",
    "                \n",
    "    def cancel_reservation(self):\n",
    "        seat_number_counter.append(self.seat_number)\n",
    "        print(f\"{self.ticket_id} has been cancelled seat no  {self.seat_number} available for next booking\")\n",
    "    \n",
    "    def display_ticket_info(self):\n",
    "        print(f\"{self.ticket_id} has been issued for {self.event_name} dated {self.event_date} at location {self.venue}. You have been allocated with seat no : {self.seat_number} Current status of reservation is {self.is_reserved}. \")\n",
    "        "
   ]
  },
  {
   "cell_type": "code",
   "execution_count": 14,
   "id": "4e9de0cd",
   "metadata": {},
   "outputs": [
    {
     "name": "stdout",
     "output_type": "stream",
     "text": [
      "Ticket1 has been reserved for FSDS on 06/07/2023 with seat number 10\n",
      "Ticket1 has been issued for FSDS dated 06/07/2023 at location Audi-01. You have been allocated with seat no : 10 Current status of reservation is True. \n",
      "Ticket2 has been reserved for FSDS on 06/07/2023 with seat number 9\n",
      "Ticket2 has been issued for FSDS dated 06/07/2023 at location Audi-01. You have been allocated with seat no : 9 Current status of reservation is True. \n",
      "Ticket1 has been cancelled seat no  10 available for next booking\n"
     ]
    }
   ],
   "source": [
    "ticketIdGen = IDGenerator('Ticket')\n",
    "t1 = Ticket(ticketIdGen.generate_id(), 'FSDS', '06/07/2023', 'Audi-01', 0,1000, False)\n",
    "t1.reserve_ticket()\n",
    "t1.display_ticket_info()\n",
    "t2 = Ticket(ticketIdGen.generate_id(), 'FSDS', '06/07/2023', 'Audi-01', 0 , 1000, False)\n",
    "t2.reserve_ticket()\n",
    "t2.display_ticket_info()\n",
    "\n",
    "t1.cancel_reservation()"
   ]
  },
  {
   "cell_type": "markdown",
   "id": "d3e726ed",
   "metadata": {},
   "source": [
    "# 9. You are creating a shopping cart for an e-commerce website. Using OOP to model the \"ShoppingCart\" functionality the class should contain following attributes and methods:\n",
    "\n",
    "a. items: Represents the list of items in the shopping cart. The class also includes the following methods:\n",
    "\n",
    "a. add_item(self, item): Adds an item to the shopping cart by appending it to the list of items. b. remove_item(self, item): Removes an item from the shopping cart if it exists in the list. c. view_cart(self): Displays the items currently present in the shopping cart. d. clear_cart(self): Clears all items from the shopping cart by reassigning an empty list to the items attribute"
   ]
  },
  {
   "cell_type": "markdown",
   "id": "45d156d7",
   "metadata": {},
   "source": [
    "Ans:-"
   ]
  },
  {
   "cell_type": "code",
   "execution_count": 15,
   "id": "d0d68076",
   "metadata": {},
   "outputs": [],
   "source": [
    "class ShoppingCart:\n",
    "    def __init__(self, items = []):\n",
    "        self.items = items\n",
    "    def add_item(self, value):\n",
    "        self.items.append(value)\n",
    "        print(f\"Shopping cart updated with item {value}. Cart has following items: {self.items}\")\n",
    "    def remove_item(self, value):\n",
    "        self.items.remove(value)\n",
    "        print(f\"{value} removed from Shopping cart. Cart has following items: {self.items}\")\n",
    "    def view_cart(self):\n",
    "        print(f\"Cart has following items: {self.items}\")\n",
    "    def clear_cart(self):\n",
    "        self.items = []\n",
    "        print(\"Cart items cleared !\")\n",
    "        \n",
    "        "
   ]
  },
  {
   "cell_type": "code",
   "execution_count": 16,
   "id": "0d645c4e",
   "metadata": {},
   "outputs": [
    {
     "name": "stdout",
     "output_type": "stream",
     "text": [
      "Shopping cart updated with item Mango. Cart has following items: ['Mango']\n",
      "Shopping cart updated with item Sugar. Cart has following items: ['Mango', 'Sugar']\n",
      "Shopping cart updated with item Saop. Cart has following items: ['Mango', 'Sugar', 'Saop']\n",
      "Shopping cart updated with item Shampoo. Cart has following items: ['Mango', 'Sugar', 'Saop', 'Shampoo']\n",
      "Shopping cart updated with item Flour. Cart has following items: ['Mango', 'Sugar', 'Saop', 'Shampoo', 'Flour']\n",
      "Shopping cart updated with item Pulses. Cart has following items: ['Mango', 'Sugar', 'Saop', 'Shampoo', 'Flour', 'Pulses']\n",
      "Cart has following items: ['Mango', 'Sugar', 'Saop', 'Shampoo', 'Flour', 'Pulses']\n",
      "Mango removed from Shopping cart. Cart has following items: ['Sugar', 'Saop', 'Shampoo', 'Flour', 'Pulses']\n",
      "Cart items cleared !\n"
     ]
    }
   ],
   "source": [
    "s1 = ShoppingCart([])\n",
    "s1.add_item('Mango')\n",
    "s1.add_item('Sugar')\n",
    "s1.add_item('Saop')\n",
    "s1.add_item('Shampoo')\n",
    "s1.add_item('Flour')\n",
    "s1.add_item('Pulses')\n",
    "s1.view_cart()\n",
    "s1.remove_item('Mango')\n",
    "s1.clear_cart()"
   ]
  },
  {
   "cell_type": "markdown",
   "id": "4096dbbc",
   "metadata": {},
   "source": [
    "# 10. Imagine a school management system. You have to design the \"Student\" class using\n",
    "OOP concepts.The “Student” class has the following attributes:\n",
    "a. name: Represents the name of the student.\n",
    "b. age: Represents the age of the student.\n",
    "c. grade: Represents the grade or class of the student.\n",
    "d. student_id: Represents the unique identifier for the student.\n",
    "e. attendance: Represents the attendance record of the student.\n",
    "The class should also include the following methods:\n",
    "a. update_attendance(self, date, status): Updates the attendance record of the\n",
    "student for a given date with the provided status (e.g., present or absent).\n",
    "b. get_attendance(self): Returns the attendance record of the student.\n",
    "c. get_average_attendance(self): Calculates and returns the average\n",
    "attendance percentage of the student based on their attendance record."
   ]
  },
  {
   "cell_type": "markdown",
   "id": "a1f09c06",
   "metadata": {},
   "source": [
    "Ans:-"
   ]
  },
  {
   "cell_type": "code",
   "execution_count": 18,
   "id": "ea8c0ee2",
   "metadata": {},
   "outputs": [],
   "source": [
    "class Student:\n",
    "    def __init__(self, name, age, grade, student_id, attendance = {}):\n",
    "        self.name = name\n",
    "        self.age = age\n",
    "        self.grade = grade\n",
    "        self.student_id = student_id\n",
    "        self.attendance = attendance\n",
    "    def update_attendance(self, date, status):\n",
    "        self.attendance[date] = status\n",
    "        print(f\"{self.name} attendance updated in system for {date} has been posted as {status}\")\n",
    "    \n",
    "    def get_attendance(self):\n",
    "        print(f\"Attendance record of student {self.name} is as follows {self.attendance}\")\n",
    "    \n",
    "    def get_average_attendance(self):\n",
    "        values = self.attendance.values()\n",
    "        presCounter = 0\n",
    "        for i in values:\n",
    "            if i == 'Present':\n",
    "                presCounter = presCounter + 1\n",
    "        \n",
    "        avgAttendance = presCounter/len(values)\n",
    "        print(f\"{self.name} from {self.grade} average attenance is : {avgAttendance}\")"
   ]
  },
  {
   "cell_type": "code",
   "execution_count": 20,
   "id": "22033a3d",
   "metadata": {},
   "outputs": [
    {
     "name": "stdout",
     "output_type": "stream",
     "text": [
      "Dipali attendance updated in system for D1 has been posted as Present\n",
      "Dipali attendance updated in system for D2 has been posted as Present\n",
      "Dipali attendance updated in system for D3 has been posted as Absent\n",
      "Dipali attendance updated in system for D4 has been posted as Absent\n",
      "Dipali attendance updated in system for D5 has been posted as Present\n",
      "Dipali attendance updated in system for D6 has been posted as Present\n",
      "Dipali attendance updated in system for D7 has been posted as Absent\n",
      "Dipali attendance updated in system for D8 has been posted as Present\n",
      "Dipali attendance updated in system for D9 has been posted as Present\n",
      "Dipali attendance updated in system for D10 has been posted as Present\n",
      "Dipali attendance updated in system for D11 has been posted as Present\n",
      "Attendance record of student Dipali is as follows {'D1': 'Present', 'D2': 'Present', 'D3': 'Absent', 'D4': 'Absent', 'D5': 'Present', 'D6': 'Present', 'D7': 'Absent', 'D8': 'Present', 'D9': 'Present', 'D10': 'Present', 'D11': 'Present'}\n",
      "Dipali from III average attenance is : 0.7272727272727273\n",
      "Rupali attendance updated in system for D1 has been posted as Present\n",
      "Rupali attendance updated in system for D2 has been posted as Present\n",
      "Rupali attendance updated in system for D3 has been posted as Absent\n",
      "Rupali attendance updated in system for D4 has been posted as Absent\n",
      "Rupali attendance updated in system for D5 has been posted as Present\n",
      "Rupali attendance updated in system for D6 has been posted as Present\n",
      "Rupali attendance updated in system for D7 has been posted as Absent\n",
      "Rupali attendance updated in system for D8 has been posted as Present\n",
      "Rupali attendance updated in system for D9 has been posted as Absent\n",
      "Rupali attendance updated in system for D10 has been posted as Present\n",
      "Rupali attendance updated in system for D11 has been posted as Absent\n",
      "Attendance record of student Rupali is as follows {'D1': 'Present', 'D2': 'Present', 'D3': 'Absent', 'D4': 'Absent', 'D5': 'Present', 'D6': 'Present', 'D7': 'Absent', 'D8': 'Present', 'D9': 'Absent', 'D10': 'Present', 'D11': 'Absent'}\n",
      "Rupali from III average attenance is : 0.5454545454545454\n",
      "Diya attendance updated in system for D1 has been posted as Present\n",
      "Diya attendance updated in system for D2 has been posted as Present\n",
      "Diya attendance updated in system for D3 has been posted as Absent\n",
      "Diya attendance updated in system for D4 has been posted as Absent\n",
      "Diya attendance updated in system for D5 has been posted as Present\n",
      "Diya attendance updated in system for D6 has been posted as Present\n",
      "Diya attendance updated in system for D7 has been posted as Absent\n",
      "Diya attendance updated in system for D8 has been posted as Absent\n",
      "Diya attendance updated in system for D9 has been posted as Absent\n",
      "Diya attendance updated in system for D10 has been posted as Present\n",
      "Diya attendance updated in system for D11 has been posted as Absent\n",
      "Attendance record of student Diya is as follows {'D1': 'Present', 'D2': 'Present', 'D3': 'Absent', 'D4': 'Absent', 'D5': 'Present', 'D6': 'Present', 'D7': 'Absent', 'D8': 'Absent', 'D9': 'Absent', 'D10': 'Present', 'D11': 'Absent'}\n",
      "Diya from III average attenance is : 0.45454545454545453\n"
     ]
    }
   ],
   "source": [
    "stuIdGen = IDGenerator('Student-')\n",
    "\n",
    "s1 = Student('Dipali', 7, \"III\", stuIdGen.generate_id())\n",
    "s1.update_attendance('D1', 'Present')\n",
    "s1.update_attendance('D2', 'Present')\n",
    "s1.update_attendance('D3', 'Absent')\n",
    "s1.update_attendance('D4', 'Absent')\n",
    "s1.update_attendance('D5', 'Present')\n",
    "s1.update_attendance('D6', 'Present')\n",
    "s1.update_attendance('D7', 'Absent')\n",
    "s1.update_attendance('D8', 'Present')\n",
    "s1.update_attendance('D9', 'Present')\n",
    "s1.update_attendance('D10', 'Present')\n",
    "s1.update_attendance('D11', 'Present')\n",
    "s1.get_attendance()\n",
    "s1.get_average_attendance()\n",
    "s2 = Student('Rupali', 7, \"III\", stuIdGen.generate_id())\n",
    "s2.update_attendance('D1', 'Present')\n",
    "s2.update_attendance('D2', 'Present')\n",
    "s2.update_attendance('D3', 'Absent')\n",
    "s2.update_attendance('D4', 'Absent')\n",
    "s2.update_attendance('D5', 'Present')\n",
    "s2.update_attendance('D6', 'Present')\n",
    "s2.update_attendance('D7', 'Absent')\n",
    "s2.update_attendance('D8', 'Present')\n",
    "s2.update_attendance('D9', 'Absent')\n",
    "s2.update_attendance('D10', 'Present')\n",
    "s2.update_attendance('D11', 'Absent')\n",
    "s2.get_attendance()\n",
    "s2.get_average_attendance()\n",
    "s3 = Student('Diya', 7, \"III\", stuIdGen.generate_id())\n",
    "s3.update_attendance('D1', 'Present')\n",
    "s3.update_attendance('D2', 'Present')\n",
    "s3.update_attendance('D3', 'Absent')\n",
    "s3.update_attendance('D4', 'Absent')\n",
    "s3.update_attendance('D5', 'Present')\n",
    "s3.update_attendance('D6', 'Present')\n",
    "s3.update_attendance('D7', 'Absent')\n",
    "s3.update_attendance('D8', 'Absent')\n",
    "s3.update_attendance('D9', 'Absent')\n",
    "s3.update_attendance('D10', 'Present')\n",
    "s3.update_attendance('D11', 'Absent')\n",
    "s3.get_attendance()\n",
    "s3.get_average_attendance()"
   ]
  },
  {
   "cell_type": "code",
   "execution_count": null,
   "id": "0a04b9db",
   "metadata": {},
   "outputs": [],
   "source": []
  }
 ],
 "metadata": {
  "kernelspec": {
   "display_name": "Python 3 (ipykernel)",
   "language": "python",
   "name": "python3"
  },
  "language_info": {
   "codemirror_mode": {
    "name": "ipython",
    "version": 3
   },
   "file_extension": ".py",
   "mimetype": "text/x-python",
   "name": "python",
   "nbconvert_exporter": "python",
   "pygments_lexer": "ipython3",
   "version": "3.10.9"
  }
 },
 "nbformat": 4,
 "nbformat_minor": 5
}
